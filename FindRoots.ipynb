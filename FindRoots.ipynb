{
 "cells": [
  {
   "cell_type": "code",
   "execution_count": 2,
   "id": "3ed87f8d-4849-4ea2-a3ab-0f58893b1b04",
   "metadata": {},
   "outputs": [],
   "source": [
    "import math\n",
    "import random\n",
    "\n",
    "def FindRoots(coef):\n",
    "    N=len(coef)-1\n",
    "#---------------------------------------------------------------------------------------------\n",
    "    if N==2:\n",
    "        def P(x):\n",
    "            return coef[0]+coef[1]*x+coef[2]*x**2\n",
    "\n",
    "        def dp(x):\n",
    "            return coef[1]+2*coef[2]*x   \n",
    "    elif N==3:\n",
    "        def P(x):\n",
    "            return coef[0]+coef[1]*x+coef[2]*x**2+coef[3]*x**3\n",
    "\n",
    "        def dp(x):\n",
    "            return coef[1]+2*coef[2]*x+3*coef[3]*x**2\n",
    "        \n",
    "    elif N==4:\n",
    "        def P(x):\n",
    "            return coef[0]+coef[1]*x+coef[2]*x**2+coef[3]*x**3+coef[4]*x**4\n",
    "\n",
    "        def dp(x):\n",
    "            return coef[1]+2*coef[2]*x+3*coef[3]*x**2+4*coef[4]*x**3\n",
    "\n",
    "    elif N==5:\n",
    "        def P(x):\n",
    "            return coef[0]+coef[1]*x+coef[2]*x**2+coef[3]*x**3+coef[4]*x**4+coef[5]*x**5\n",
    "\n",
    "        def dp(x):\n",
    "            return coef[1]+2*coef[2]*x+3*coef[3]*x**2+4*coef[4]*x**3+5*coef[5]*x**4\n",
    "\n",
    "    elif N==6:\n",
    "        def P(x):\n",
    "            return c0+c1*x+c2*x**2+c3*x**3+c4*x**4+c5*x**5+coef[6]*x**6\n",
    "\n",
    "        def dp(x):\n",
    "            return coef[1]+2*coef[2]*x+3*coef[3]*x**2+4*coef[4]*x**3+5*coef[5]*x**4+6*coef[6]*x**5\n",
    "\n",
    "    elif N==7:\n",
    "        def P(x):\n",
    "            return coef[0]+coef[1]*x+coef[2]*x**2+coef[3]*x**3+coef[4]*x**4+coef[5]*x**5+coef[6]*x**6+coef[7]*x**7\n",
    "\n",
    "        def dp(x):\n",
    "            return coef[1]+2*coef[2]*x+3*coef[3]*x**2+4*coef[4]*x**3+5*coef[5]*x**4+6*coef[6]*x**5+7*coef[7]*x**6\n",
    "\n",
    "    elif N==8:\n",
    "        def P(x):\n",
    "            return coef[0]+coef[1]*x+coef[2]*x**2+coef[3]*x**3+coef[4]*x**4+coef[5]*x**5+coef[6]*x**6+coef[7]*x**7+coef[8]*x**8\n",
    "\n",
    "        def dp(x):\n",
    "            return coef[1]+2*coef[2]*x+3*coef[3]*x**2+4*coef[4]*x**3+5*coef[5]*x**4+6*coef[6]*x**5+7*coef[7]*x**6+8*coef[8]*x**7     \n",
    "\n",
    "    elif N==9:\n",
    "        def P(x):\n",
    "            return coef[0]+coef[1]*x+coef[2]*x**2+coef[3]*x**3+coef[4]*x**4+coef[5]*x**5+coef[6]*x**6+coef[7]*x**7+coef[8]*x**8+coef[9]*x**9\n",
    "\n",
    "        def dp(x):\n",
    "            return coef[1]+2*coef[2]*x+3*coef[3]*x**2+4*coef[4]*x**3+5*coef[5]*x**4+6*coef[6]*x**5+7*coef[7]*x**6+8*coef[8]*x**7+9*coef[9]*x**8\n",
    "\n",
    "    elif N==10:\n",
    "        def P(x):\n",
    "            return coef[0]+coef[1]*x+coef[2]*x**2+coef[3]*x**3+coef[4]*x**4+coef[5]*x**5+coef[6]*x**6+coef[7]*x**7+coef[8]*x**8+coef[9]*x**9+coef[10]*x**10\n",
    "\n",
    "        def dp(x):\n",
    "            return coef[1]+2*coef[2]*x+3*coef[3]*x**2+4*coef[4]*x**3+5*coef[5]*x**4+6*coef[6]*x**5+7*coef[7]*x**6+8*coef[8]*x**7+9*coef[9]*x**8+10*coef[10]*x**9\n",
    "    elif N==11:\n",
    "        def P(x):\n",
    "            return coef[0]+coef[1]*x+coef[2]*x**2+coef[3]*x**3+coef[4]*x**4+coef[5]*x**5+coef[6]*x**6+coef[7]*x**7+coef[8]*x**8+coef[9]*x**9+coef[10]*x**10+coef[11]*x**11\n",
    "\n",
    "        def dp(x):\n",
    "            return coef[1]+2*coef[2]*x+3*coef[3]*x**2+4*coef[4]*x**3+5*coef[5]*x**4+6*coef[6]*x**5+7*coef[7]*x**6+8*coef[8]*x**7+9*coef[9]*x**8+10*coef[10]*x**9+11*coef[11]*x**10\n",
    "    elif N==12:\n",
    "        def P(x):\n",
    "            return coef[0]+coef[1]*x+coef[2]*x**2+coef[3]*x**3+coef[4]*x**4+coef[5]*x**5+coef[6]*x**6+coef[7]*x**7+coef[8]*x**8+coef[9]*x**9+coef[10]*x**10+coef[11]*x**11+coef[12]*x**12\n",
    "\n",
    "        def dp(x):\n",
    "            return coef[1]+2*coef[2]*x+3*coef[3]*x**2+4*coef[4]*x**3+5*coef[5]*x**4+6*coef[6]*x**5+7*coef[7]*x**6+8*coef[8]*x**7+9*coef[9]*x**8+10*coef[10]*x**9+11*coef[11]*x**10+12*coef[12]*x**11\n",
    "#-----------------------------------------------------------------------------------------------------------------------------------------------\n",
    "    def UV(f):\n",
    "        U = 1 + 1 / abs(coef[-1]) * max(abs(coef[x]) for x in range(N))\n",
    "        V = abs(coef[0]) / (abs(coef[0]) + max(abs(coef[x]) for x in range(1, N + 1)))\n",
    "        return U, V\n",
    "\n",
    "    def Roots0(f):\n",
    "        U, V = UV(f)\n",
    "        roots = []\n",
    "        for i in range(N):\n",
    "            r = random.uniform(V, U)\n",
    "            a = random.uniform(0, math.pi*2)\n",
    "            root = complex(r * math.cos(a), r * math.sin(a))\n",
    "            roots.append(root)\n",
    "        return roots\n",
    "\n",
    "    def im(x): \n",
    "        return sum(coef*(pow(x, i)) for i, coef in enumerate(coef))\n",
    "\n",
    "    def  Roots(f):\n",
    "        roots = Roots0(f)    \n",
    "        while True:\n",
    "            NP = 0\n",
    "            for k, r in enumerate(roots):\n",
    "                ratio =  im(r) / dp(r)\n",
    "                w = ratio / (1 - (ratio * sum(1/(r - x) \n",
    "                                  for j, x in enumerate(roots) if j != k)))\n",
    "                if round(w.real, 15) == 0 and round(w.imag, 15) == 0:\n",
    "                    NP += 1\n",
    "                roots[k] -= w\n",
    "            if NP == len(roots):\n",
    "                break\n",
    "\n",
    "        return [complex(round(r.real, 12), round(r.imag, 12)) for r in roots]\n",
    "    return(Roots(P))"
   ]
  },
  {
   "cell_type": "code",
   "execution_count": 3,
   "id": "5d7d632d-f242-4b49-a468-8377b13536d2",
   "metadata": {},
   "outputs": [],
   "source": [
    "#if your polynomial is in the format of c0+c1*x+c2*x**2+c3*x**3+...+cn*x**n:  \n",
    "#please enter c=[c0,c1,c2,c3,...,cn] in the FindRoots Function\n",
    "#Maximum degree of polynomial (n) in this function is 12 !"
   ]
  },
  {
   "cell_type": "code",
   "execution_count": 4,
   "id": "881842f8-6427-4bfd-9c19-c6ced521656c",
   "metadata": {},
   "outputs": [
    {
     "data": {
      "text/plain": [
       "[(2+0j), (-2+0j)]"
      ]
     },
     "execution_count": 4,
     "metadata": {},
     "output_type": "execute_result"
    }
   ],
   "source": [
    "#Example1         x**2-4=0\n",
    "c0=-4\n",
    "c1=0\n",
    "c2=1\n",
    "c=[c0,c1,c2]\n",
    "FindRoots(c)"
   ]
  },
  {
   "cell_type": "code",
   "execution_count": 5,
   "id": "20b2dbeb-b6cb-4f12-b179-8a75883fd62c",
   "metadata": {},
   "outputs": [
    {
     "data": {
      "text/plain": [
       "[(-1+0j), (-0.2+0j)]"
      ]
     },
     "execution_count": 5,
     "metadata": {},
     "output_type": "execute_result"
    }
   ],
   "source": [
    "#Example2 5*x**2+6*x+1=0\n",
    "c0=1\n",
    "c1=6\n",
    "c2=5\n",
    "c=[c0,c1,c2]\n",
    "FindRoots(c)"
   ]
  },
  {
   "cell_type": "code",
   "execution_count": 6,
   "id": "be5ae4fa-1866-4939-ad01-caf33dce7020",
   "metadata": {},
   "outputs": [
    {
     "data": {
      "text/plain": [
       "[(2+0j), (-3+0j), (-0.5+0j)]"
      ]
     },
     "execution_count": 6,
     "metadata": {},
     "output_type": "execute_result"
    }
   ],
   "source": [
    "#Example3 2*x**3+3*x**2-11*x-6=0\n",
    "c0=-6\n",
    "c1=-11\n",
    "c2=3\n",
    "c3=2\n",
    "c=[c0,c1,c2,c3]\n",
    "FindRoots(c)"
   ]
  },
  {
   "cell_type": "code",
   "execution_count": 8,
   "id": "771272ee-2798-42ea-9287-b64e83b58b58",
   "metadata": {},
   "outputs": [
    {
     "data": {
      "text/plain": [
       "[(-0.150984173275-0j),\n",
       " (1.790734303545+0j),\n",
       " (3.038495291037+0j),\n",
       " (-0.954079614623+0j),\n",
       " (1.275834193317-0j)]"
      ]
     },
     "execution_count": 8,
     "metadata": {},
     "output_type": "execute_result"
    }
   ],
   "source": [
    "#Example4 x**5-5*x**4+5*x**3+5*x**2-6x-1=0\n",
    "c0=-1\n",
    "c1=-6\n",
    "c2=5\n",
    "c3=5\n",
    "c4=-5\n",
    "c5=1\n",
    "c=[c0,c1,c2,c3,c4,c5]\n",
    "FindRoots(c)"
   ]
  },
  {
   "cell_type": "code",
   "execution_count": 14,
   "id": "9ce130e9-99f1-4d89-a283-dc2ccea54add",
   "metadata": {},
   "outputs": [
    {
     "data": {
      "text/plain": [
       "<matplotlib.lines.Line2D at 0x1936bb5c1c0>"
      ]
     },
     "execution_count": 14,
     "metadata": {},
     "output_type": "execute_result"
    },
    {
     "data": {
      "image/png": "[encoded data removed]",
      "text/plain": [
       "<Figure size 432x288 with 1 Axes>"
      ]
     },
     "metadata": {
      "needs_background": "light"
     },
     "output_type": "display_data"
    }
   ],
   "source": [
    "#Example5 12th degree polynomial!\n",
    "import matplotlib.pyplot as plt\n",
    "c0=-1\n",
    "c1=-6\n",
    "c2=5\n",
    "c3=5\n",
    "c4=-5\n",
    "c5=1\n",
    "c6=2\n",
    "c7=3\n",
    "c8=1\n",
    "c9=2\n",
    "c10=1\n",
    "c11=0\n",
    "c12=1\n",
    "c=[c0,c1,c2,c3,c4,c5,c6,c7,c8,c9,c10,c11,c12]\n",
    "FindRoots(c)\n",
    "x=-1.4\n",
    "dx=0.1\n",
    "X=[]\n",
    "while x<=3.5:\n",
    "    x=x+dx\n",
    "    X.append(x)\n",
    "def P(x):\n",
    "    return c0+c1*x+c2*x**2+c3*x**3+c4*x**4+c5*x**5\n",
    "Y=[]\n",
    "for i in range(len(X)):\n",
    "        Y.append(P(X[i]))\n",
    "\n",
    "\n",
    "fig, ax = plt.subplots()\n",
    "plt.plot(X,Y)\n",
    "R=[(1.790734303545),\n",
    " (1.275834193317),\n",
    " (3.038495291037),\n",
    " (-0.954079614623),\n",
    " (-0.150984173275)]\n",
    "Y0=[0,0,0,0,0]\n",
    "plt.plot(R,Y0,'ko')\n",
    "#ax.set_aspect('equal')\n",
    "ax.grid(True, which='both')\n",
    "\n",
    "ax.axhline(y=0, color='k')\n",
    "ax.axvline(x=0, color='k')\n",
    "#plt.savefig(\"FindRoots\"+\".pdf\", format=\"PDF\")"
   ]
  },
  {
   "cell_type": "code",
   "execution_count": null,
   "id": "4b1414e2-7415-4f9e-b686-328ecc2d6454",
   "metadata": {},
   "outputs": [],
   "source": []
  }
 ],
 "metadata": {
  "kernelspec": {
   "display_name": "Python 3",
   "language": "python",
   "name": "python3"
  },
  "language_info": {
   "codemirror_mode": {
    "name": "ipython",
    "version": 3
   },
   "file_extension": ".py",
   "mimetype": "text/x-python",
   "name": "python",
   "nbconvert_exporter": "python",
   "pygments_lexer": "ipython3",
   "version": "3.8.8"
  }
 },
 "nbformat": 4,
 "nbformat_minor": 5
}
